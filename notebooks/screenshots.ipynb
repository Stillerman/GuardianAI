{
 "cells": [
  {
   "cell_type": "code",
   "execution_count": 2,
   "metadata": {},
   "outputs": [],
   "source": [
    "from groq import Groq\n",
    "import base64\n",
    "import os \n",
    "# from dotenv import load_dotenv\n",
    "import pyautogui\n",
    "from io import BytesIO"
   ]
  },
  {
   "cell_type": "code",
   "execution_count": null,
   "metadata": {},
   "outputs": [],
   "source": [
    "def encode_image(image_path):\n",
    "  with open(image_path, \"rb\") as image_file:\n",
    "    return base64.b64encode(image_file.read()).decode('utf-8')\n",
    "\n",
    "def run_llm(prompt, base64_image, model=\"llama-3.2-11b-vision-preview\"):\n",
    "    client = Groq(api_key=os.environ[\"GROQ_API_KEY\"])\n",
    "    completion = client.chat.completions.create(\n",
    "        model=model,\n",
    "        messages=[\n",
    "            {\n",
    "                \"role\": \"user\",\n",
    "                \"content\": [\n",
    "                    {\n",
    "                        \"type\": \"text\",\n",
    "                        \"text\": f\"{prompt}\"\n",
    "                    },\n",
    "                    {\n",
    "                        \"type\": \"image_url\",\n",
    "                        \"image_url\": {\n",
    "                            \"url\": f\"data:image/jpeg;base64,{base64_image}\",                    }\n",
    "                    }\n",
    "                ]\n",
    "            }\n",
    "        ],\n",
    "        temperature=1,\n",
    "        max_tokens=1024,\n",
    "        top_p=1,\n",
    "        stream=False,\n",
    "        stop=None,\n",
    "        response_format={\"type\": \"json_object\"},\n",
    "    )\n",
    "\n",
    "    return completion.choices[0].message.content"
   ]
  },
  {
   "cell_type": "code",
   "execution_count": 5,
   "metadata": {},
   "outputs": [],
   "source": [
    "def take_screenshot(filename):\n",
    "    # Take screenshot\n",
    "    screenshot = pyautogui.screenshot()\n",
    "    \n",
    "    # Resize the image\n",
    "    desired_size = (1024, 1024)\n",
    "    resized_screenshot = screenshot.resize(desired_size)\n",
    "    \n",
    "    # Convert to RGB mode\n",
    "    rgb_screenshot = resized_screenshot.convert('RGB')\n",
    "    \n",
    "    # Create a BytesIO object to store the image in memory\n",
    "    buffer = BytesIO()\n",
    "    \n",
    "    # Save the image to the buffer in JPEG format with compression\n",
    "    rgb_screenshot.save(buffer, format='JPEG', quality=50)\n",
    "    \n",
    "    # Get the bytes from the buffer and encode to base64\n",
    "    base64_image = base64.b64encode(buffer.getvalue()).decode('utf-8')\n",
    "    \n",
    "    # Save the image to a file\n",
    "    with open(filename, 'wb') as file:\n",
    "        file.write(base64.b64decode(base64_image))\n",
    "    \n",
    "    # Close the buffer\n",
    "    buffer.close()\n",
    "    \n",
    "    return base64_image"
   ]
  },
  {
   "cell_type": "code",
   "execution_count": 6,
   "metadata": {},
   "outputs": [],
   "source": [
    "import time\n",
    "\n",
    "for i in range(10):\n",
    "    base64_image = take_screenshot(f\"./data/screenshot_{i}.jpg\")\n",
    "    response = run_llm(prompt, base64_image)\n",
    "    print(response)\n",
    "    time.sleep(1)"
   ]
  },
  {
   "cell_type": "code",
   "execution_count": null,
   "metadata": {},
   "outputs": [],
   "source": []
  }
 ],
 "metadata": {
  "kernelspec": {
   "display_name": ".venv",
   "language": "python",
   "name": "python3"
  },
  "language_info": {
   "codemirror_mode": {
    "name": "ipython",
    "version": 3
   },
   "file_extension": ".py",
   "mimetype": "text/x-python",
   "name": "python",
   "nbconvert_exporter": "python",
   "pygments_lexer": "ipython3",
   "version": "3.12.6"
  }
 },
 "nbformat": 4,
 "nbformat_minor": 2
}
